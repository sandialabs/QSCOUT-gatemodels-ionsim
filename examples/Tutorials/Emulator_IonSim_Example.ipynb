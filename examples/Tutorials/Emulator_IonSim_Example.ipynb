{
 "cells": [
  {
   "cell_type": "markdown",
   "metadata": {},
   "source": [
    "## Noisy Density Matrix Simulation"
   ]
  },
  {
   "cell_type": "code",
   "execution_count": 1,
   "metadata": {},
   "outputs": [],
   "source": [
    "from jaqalpaq.parser import parse_jaqal_string\n",
    "from jaqalpaq.emulator import run_jaqal_circuit\n",
    "from jaqalpaq.core.result import parse_jaqal_output_list"
   ]
  },
  {
   "cell_type": "code",
   "execution_count": 2,
   "metadata": {},
   "outputs": [],
   "source": [
    "pi = 3.1415926535897932\n",
    "def simple_jaqal_circuit(angle):\n",
    "    return parse_jaqal_string(f\"\"\"\n",
    "                                from qscout.v1.std usepulses *\n",
    "\n",
    "                                register q[2]\n",
    "\n",
    "                                let angle {angle}\n",
    "\n",
    "                                loop 1 {{\n",
    "                                prepare_all\n",
    "                                R q[0] 0 angle\n",
    "                                measure_all\n",
    "                                }}\n",
    "\n",
    "                                \"\"\")"
   ]
  },
  {
   "cell_type": "code",
   "execution_count": 3,
   "metadata": {},
   "outputs": [],
   "source": [
    "import numpy as np\n",
    "angles = np.linspace(0, 2*np.pi, 21)\n",
    "#grid_angles = np.linspace(np.pi/20, np.pi + np.pi/20, 5)\n",
    "grid_angles = np.linspace(0, np.pi, 3)"
   ]
  },
  {
   "cell_type": "code",
   "execution_count": 4,
   "metadata": {},
   "outputs": [],
   "source": [
    "# from qscout.v1.noisy import SNLToy1\n",
    "from qscout.v1.ionsim import IonSimErrorModel\n",
    "from qscout.v1.ionsim_data.ion_interpolator_spline import SingleQubitTargetOp, MSTargetOp, adjust_time\n",
    "# need to change \"create opfactory method\" of interpygate to make calls to\n",
    "# self.TargetOpFactory, not __main__.TargetOpFacotry"
   ]
  },
  {
   "cell_type": "code",
   "execution_count": 5,
   "metadata": {},
   "outputs": [],
   "source": [
    "# jaqal_results_exact = []\n",
    "# grid_jaqal_results_exact = []\n",
    "# for angle in angles:\n",
    "#     result = run_jaqal_circuit(simple_jaqal_circuit(angle))\n",
    "#     jaqal_results_exact += [result]\n",
    "#     if angle in grid_angles:\n",
    "#         grid_jaqal_results_exact += [result]"
   ]
  },
  {
   "cell_type": "code",
   "execution_count": 6,
   "metadata": {},
   "outputs": [],
   "source": [
    "# jaqal_results_toy = []\n",
    "# for angle in angles:\n",
    "#     jaqal_results_toy += [run_jaqal_circuit(simple_jaqal_circuit(angle), backend=SNLToy1(2, depolarization=1e-3))]"
   ]
  },
  {
   "cell_type": "code",
   "execution_count": null,
   "metadata": {},
   "outputs": [],
   "source": []
  },
  {
   "cell_type": "code",
   "execution_count": 7,
   "metadata": {},
   "outputs": [
    {
     "name": "stdout",
     "output_type": "stream",
     "text": [
      "... computing R gate... phi, theta =  0.0 3.141592653589793\n",
      "... computing R gate... phi, theta =  4.934802200544679 3.141592653589793\n",
      "... computing R gate... phi, theta =  0.0 1.5707963267948966\n",
      "... computing R gate... phi, theta =  4.934802200544679 1.5707963267948966\n",
      "... computing R gate... phi, theta =  3.5864190939097718 1.5707963267948966\n",
      "... computing R gate... phi, theta =  2.2380359872748645 1.5707963267948966\n",
      "... computing MS gate... phi, theta =  0.0 1.5707963267948966\n",
      "... computing R gate... phi, theta =  0.0 0\n",
      "... computing R gate... phi, theta =  0.0 3.141592653589793\n",
      "... computing R gate... phi, theta =  4.934802200544679 3.141592653589793\n",
      "... computing R gate... phi, theta =  0.0 1.5707963267948966\n",
      "... computing R gate... phi, theta =  4.934802200544679 1.5707963267948966\n",
      "... computing R gate... phi, theta =  3.5864190939097718 1.5707963267948966\n",
      "... computing R gate... phi, theta =  2.2380359872748645 1.5707963267948966\n",
      "... computing MS gate... phi, theta =  0.0 1.5707963267948966\n",
      "... computing R gate... phi, theta =  0.0 0.3141592653589793\n",
      "... computing R gate... phi, theta =  0.0 3.141592653589793\n",
      "... computing R gate... phi, theta =  4.934802200544679 3.141592653589793\n",
      "... computing R gate... phi, theta =  0.0 1.5707963267948966\n",
      "... computing R gate... phi, theta =  4.934802200544679 1.5707963267948966\n",
      "... computing R gate... phi, theta =  3.5864190939097718 1.5707963267948966\n",
      "... computing R gate... phi, theta =  2.2380359872748645 1.5707963267948966\n",
      "... computing MS gate... phi, theta =  0.0 1.5707963267948966\n",
      "... computing R gate... phi, theta =  0.0 0.6283185307179586\n",
      "... computing R gate... phi, theta =  0.0 3.141592653589793\n",
      "... computing R gate... phi, theta =  4.934802200544679 3.141592653589793\n",
      "... computing R gate... phi, theta =  0.0 1.5707963267948966\n",
      "... computing R gate... phi, theta =  4.934802200544679 1.5707963267948966\n",
      "... computing R gate... phi, theta =  3.5864190939097718 1.5707963267948966\n",
      "... computing R gate... phi, theta =  2.2380359872748645 1.5707963267948966\n",
      "... computing MS gate... phi, theta =  0.0 1.5707963267948966\n",
      "... computing R gate... phi, theta =  0.0 0.9424777960769379\n",
      "... computing R gate... phi, theta =  0.0 3.141592653589793\n",
      "... computing R gate... phi, theta =  4.934802200544679 3.141592653589793\n",
      "... computing R gate... phi, theta =  0.0 1.5707963267948966\n",
      "... computing R gate... phi, theta =  4.934802200544679 1.5707963267948966\n",
      "... computing R gate... phi, theta =  3.5864190939097718 1.5707963267948966\n",
      "... computing R gate... phi, theta =  2.2380359872748645 1.5707963267948966\n",
      "... computing MS gate... phi, theta =  0.0 1.5707963267948966\n",
      "... computing R gate... phi, theta =  0.0 1.2566370614359172\n",
      "... computing R gate... phi, theta =  0.0 3.141592653589793\n",
      "... computing R gate... phi, theta =  4.934802200544679 3.141592653589793\n",
      "... computing R gate... phi, theta =  0.0 1.5707963267948966\n",
      "... computing R gate... phi, theta =  4.934802200544679 1.5707963267948966\n",
      "... computing R gate... phi, theta =  3.5864190939097718 1.5707963267948966\n",
      "... computing R gate... phi, theta =  2.2380359872748645 1.5707963267948966\n",
      "... computing MS gate... phi, theta =  0.0 1.5707963267948966\n",
      "... computing R gate... phi, theta =  0.0 1.5707963267948966\n",
      "... computing R gate... phi, theta =  0.0 3.141592653589793\n",
      "... computing R gate... phi, theta =  4.934802200544679 3.141592653589793\n",
      "... computing R gate... phi, theta =  0.0 1.5707963267948966\n",
      "... computing R gate... phi, theta =  4.934802200544679 1.5707963267948966\n",
      "... computing R gate... phi, theta =  3.5864190939097718 1.5707963267948966\n",
      "... computing R gate... phi, theta =  2.2380359872748645 1.5707963267948966\n",
      "... computing MS gate... phi, theta =  0.0 1.5707963267948966\n",
      "... computing R gate... phi, theta =  0.0 1.8849555921538759\n",
      "... computing R gate... phi, theta =  0.0 3.141592653589793\n",
      "... computing R gate... phi, theta =  4.934802200544679 3.141592653589793\n",
      "... computing R gate... phi, theta =  0.0 1.5707963267948966\n",
      "... computing R gate... phi, theta =  4.934802200544679 1.5707963267948966\n",
      "... computing R gate... phi, theta =  3.5864190939097718 1.5707963267948966\n",
      "... computing R gate... phi, theta =  2.2380359872748645 1.5707963267948966\n",
      "... computing MS gate... phi, theta =  0.0 1.5707963267948966\n",
      "... computing R gate... phi, theta =  0.0 2.199114857512855\n",
      "... computing R gate... phi, theta =  0.0 3.141592653589793\n",
      "... computing R gate... phi, theta =  4.934802200544679 3.141592653589793\n",
      "... computing R gate... phi, theta =  0.0 1.5707963267948966\n",
      "... computing R gate... phi, theta =  4.934802200544679 1.5707963267948966\n",
      "... computing R gate... phi, theta =  3.5864190939097718 1.5707963267948966\n",
      "... computing R gate... phi, theta =  2.2380359872748645 1.5707963267948966\n",
      "... computing MS gate... phi, theta =  0.0 1.5707963267948966\n",
      "... computing R gate... phi, theta =  0.0 2.5132741228718345\n",
      "... computing R gate... phi, theta =  0.0 3.141592653589793\n",
      "... computing R gate... phi, theta =  4.934802200544679 3.141592653589793\n",
      "... computing R gate... phi, theta =  0.0 1.5707963267948966\n",
      "... computing R gate... phi, theta =  4.934802200544679 1.5707963267948966\n",
      "... computing R gate... phi, theta =  3.5864190939097718 1.5707963267948966\n",
      "... computing R gate... phi, theta =  2.2380359872748645 1.5707963267948966\n",
      "... computing MS gate... phi, theta =  0.0 1.5707963267948966\n",
      "... computing R gate... phi, theta =  0.0 2.827433388230814\n",
      "... computing R gate... phi, theta =  0.0 3.141592653589793\n",
      "... computing R gate... phi, theta =  4.934802200544679 3.141592653589793\n",
      "... computing R gate... phi, theta =  0.0 1.5707963267948966\n",
      "... computing R gate... phi, theta =  4.934802200544679 1.5707963267948966\n",
      "... computing R gate... phi, theta =  3.5864190939097718 1.5707963267948966\n",
      "... computing R gate... phi, theta =  2.2380359872748645 1.5707963267948966\n",
      "... computing MS gate... phi, theta =  0.0 1.5707963267948966\n",
      "... computing R gate... phi, theta =  0.0 3.141592653589793\n",
      "... computing R gate... phi, theta =  0.0 3.141592653589793\n",
      "... computing R gate... phi, theta =  4.934802200544679 3.141592653589793\n",
      "... computing R gate... phi, theta =  0.0 1.5707963267948966\n",
      "... computing R gate... phi, theta =  4.934802200544679 1.5707963267948966\n",
      "... computing R gate... phi, theta =  3.5864190939097718 1.5707963267948966\n",
      "... computing R gate... phi, theta =  2.2380359872748645 1.5707963267948966\n",
      "... computing MS gate... phi, theta =  0.0 1.5707963267948966\n",
      "... computing R gate... phi, theta =  3.5864190939097718 2.827433388230814\n",
      "... computing R gate... phi, theta =  0.0 3.141592653589793\n",
      "... computing R gate... phi, theta =  4.934802200544679 3.141592653589793\n",
      "... computing R gate... phi, theta =  0.0 1.5707963267948966\n",
      "... computing R gate... phi, theta =  4.934802200544679 1.5707963267948966\n",
      "... computing R gate... phi, theta =  3.5864190939097718 1.5707963267948966\n",
      "... computing R gate... phi, theta =  2.2380359872748645 1.5707963267948966\n",
      "... computing MS gate... phi, theta =  0.0 1.5707963267948966\n",
      "... computing R gate... phi, theta =  3.5864190939097718 2.5132741228718345\n",
      "... computing R gate... phi, theta =  0.0 3.141592653589793\n",
      "... computing R gate... phi, theta =  4.934802200544679 3.141592653589793\n",
      "... computing R gate... phi, theta =  0.0 1.5707963267948966\n",
      "... computing R gate... phi, theta =  4.934802200544679 1.5707963267948966\n",
      "... computing R gate... phi, theta =  3.5864190939097718 1.5707963267948966\n",
      "... computing R gate... phi, theta =  2.2380359872748645 1.5707963267948966\n",
      "... computing MS gate... phi, theta =  0.0 1.5707963267948966\n",
      "... computing R gate... phi, theta =  3.5864190939097718 2.199114857512855\n",
      "... computing R gate... phi, theta =  0.0 3.141592653589793\n",
      "... computing R gate... phi, theta =  4.934802200544679 3.141592653589793\n",
      "... computing R gate... phi, theta =  0.0 1.5707963267948966\n",
      "... computing R gate... phi, theta =  4.934802200544679 1.5707963267948966\n",
      "... computing R gate... phi, theta =  3.5864190939097718 1.5707963267948966\n",
      "... computing R gate... phi, theta =  2.2380359872748645 1.5707963267948966\n",
      "... computing MS gate... phi, theta =  0.0 1.5707963267948966\n",
      "... computing R gate... phi, theta =  3.5864190939097718 1.8849555921538759\n",
      "... computing R gate... phi, theta =  0.0 3.141592653589793\n",
      "... computing R gate... phi, theta =  4.934802200544679 3.141592653589793\n",
      "... computing R gate... phi, theta =  0.0 1.5707963267948966\n",
      "... computing R gate... phi, theta =  4.934802200544679 1.5707963267948966\n",
      "... computing R gate... phi, theta =  3.5864190939097718 1.5707963267948966\n",
      "... computing R gate... phi, theta =  2.2380359872748645 1.5707963267948966\n",
      "... computing MS gate... phi, theta =  0.0 1.5707963267948966\n"
     ]
    },
    {
     "name": "stdout",
     "output_type": "stream",
     "text": [
      "... computing R gate... phi, theta =  3.5864190939097718 1.5707963267948966\n",
      "... computing R gate... phi, theta =  0.0 3.141592653589793\n",
      "... computing R gate... phi, theta =  4.934802200544679 3.141592653589793\n",
      "... computing R gate... phi, theta =  0.0 1.5707963267948966\n",
      "... computing R gate... phi, theta =  4.934802200544679 1.5707963267948966\n",
      "... computing R gate... phi, theta =  3.5864190939097718 1.5707963267948966\n",
      "... computing R gate... phi, theta =  2.2380359872748645 1.5707963267948966\n",
      "... computing MS gate... phi, theta =  0.0 1.5707963267948966\n",
      "... computing R gate... phi, theta =  3.5864190939097718 1.2566370614359172\n",
      "... computing R gate... phi, theta =  0.0 3.141592653589793\n",
      "... computing R gate... phi, theta =  4.934802200544679 3.141592653589793\n",
      "... computing R gate... phi, theta =  0.0 1.5707963267948966\n",
      "... computing R gate... phi, theta =  4.934802200544679 1.5707963267948966\n",
      "... computing R gate... phi, theta =  3.5864190939097718 1.5707963267948966\n",
      "... computing R gate... phi, theta =  2.2380359872748645 1.5707963267948966\n",
      "... computing MS gate... phi, theta =  0.0 1.5707963267948966\n",
      "... computing R gate... phi, theta =  3.5864190939097718 0.9424777960769379\n",
      "... computing R gate... phi, theta =  0.0 3.141592653589793\n",
      "... computing R gate... phi, theta =  4.934802200544679 3.141592653589793\n",
      "... computing R gate... phi, theta =  0.0 1.5707963267948966\n",
      "... computing R gate... phi, theta =  4.934802200544679 1.5707963267948966\n",
      "... computing R gate... phi, theta =  3.5864190939097718 1.5707963267948966\n",
      "... computing R gate... phi, theta =  2.2380359872748645 1.5707963267948966\n",
      "... computing MS gate... phi, theta =  0.0 1.5707963267948966\n",
      "... computing R gate... phi, theta =  3.5864190939097718 0.6283185307179586\n",
      "... computing R gate... phi, theta =  0.0 3.141592653589793\n",
      "... computing R gate... phi, theta =  4.934802200544679 3.141592653589793\n",
      "... computing R gate... phi, theta =  0.0 1.5707963267948966\n",
      "... computing R gate... phi, theta =  4.934802200544679 1.5707963267948966\n",
      "... computing R gate... phi, theta =  3.5864190939097718 1.5707963267948966\n",
      "... computing R gate... phi, theta =  2.2380359872748645 1.5707963267948966\n",
      "... computing MS gate... phi, theta =  0.0 1.5707963267948966\n",
      "... computing R gate... phi, theta =  3.5864190939097718 0.3141592653589793\n",
      "... computing R gate... phi, theta =  0.0 3.141592653589793\n",
      "... computing R gate... phi, theta =  4.934802200544679 3.141592653589793\n",
      "... computing R gate... phi, theta =  0.0 1.5707963267948966\n",
      "... computing R gate... phi, theta =  4.934802200544679 1.5707963267948966\n",
      "... computing R gate... phi, theta =  3.5864190939097718 1.5707963267948966\n",
      "... computing R gate... phi, theta =  2.2380359872748645 1.5707963267948966\n",
      "... computing MS gate... phi, theta =  0.0 1.5707963267948966\n",
      "... computing R gate... phi, theta =  3.5864190939097718 0.0\n"
     ]
    }
   ],
   "source": [
    "jaqal_results_ion = {}\n",
    "grid_jaqal_results_ion = {}\n",
    "sigmas = [0]\n",
    "for sigma in sigmas:\n",
    "    jaqal_results_ion[sigma] = []\n",
    "    grid_jaqal_results_ion[sigma] = []\n",
    "    for angle in angles:\n",
    "        result = run_jaqal_circuit(simple_jaqal_circuit(angle), backend=IonSimErrorModel(2, v0=[0, 0], sigmas=[sigma, 0], sample=False, datadir='Omega1-time'))\n",
    "        jaqal_results_ion[sigma] += [result]\n",
    "        if angle in grid_angles:\n",
    "            grid_jaqal_results_ion[sigma] += [result]        "
   ]
  },
  {
   "cell_type": "code",
   "execution_count": null,
   "metadata": {},
   "outputs": [],
   "source": []
  },
  {
   "cell_type": "code",
   "execution_count": 8,
   "metadata": {},
   "outputs": [
    {
     "data": {
      "image/png": "[encoded data removed]",
      "text/plain": [
       "<Figure size 432x288 with 1 Axes>"
      ]
     },
     "metadata": {
      "needs_background": "light"
     },
     "output_type": "display_data"
    }
   ],
   "source": [
    "save = False\n",
    "datadir = '/Users/bruzic/Documents/Projects/Qscout/emulations/plots'\n",
    "\n",
    "import matplotlib\n",
    "from matplotlib import cm\n",
    "from matplotlib import pyplot as plt\n",
    "from numpy import bincount\n",
    "\n",
    "\n",
    "sigma = 0\n",
    "index = 0\n",
    "# ys_exact = np.array([result.subcircuits[0].probability_by_int[index] for result in jaqal_results_exact ])\n",
    "# grid_ys_exact = np.array([result.subcircuits[0].probability_by_int[index] for result in grid_jaqal_results_exact ])\n",
    "# ys_toy = np.array([result.subcircuits[0].probability_by_int[index] for result in jaqal_results_toy ])\n",
    "ys_ion = np.array([result.subcircuits[0].probability_by_int[index] for result in jaqal_results_ion[sigma]])\n",
    "grid_ys_ion = np.array([result.subcircuits[0].probability_by_int[index] for result in grid_jaqal_results_ion[sigma]])\n",
    "\n",
    "\n",
    "# plt.plot(angles, ys_exact, label='ideal')\n",
    "# plt.plot(angles, ys_toy, '--', label='Toy, depolarization = 0.01%')\n",
    "plt.plot(np.array(angles), ys_ion, '.', label=r'IonSim, dpower = 100 $\\mu$W, $\\sigma=$' + f'{sigma}')\n",
    "plt.legend()\n",
    "plt.ylabel('Probability in Ground State')\n",
    "plt.xlabel(r'Theta (rad.)')\n",
    "\n",
    "if save:\n",
    "    plt.savefig(f'{datadir}/R_gate_probability_vs_theta.pdf', bbox_inches='tight')\n",
    "plt.show()"
   ]
  },
  {
   "cell_type": "code",
   "execution_count": null,
   "metadata": {},
   "outputs": [],
   "source": [
    "grid_angles"
   ]
  },
  {
   "cell_type": "code",
   "execution_count": null,
   "metadata": {},
   "outputs": [],
   "source": [
    "grid_jaqal_results_ion"
   ]
  },
  {
   "cell_type": "code",
   "execution_count": null,
   "metadata": {},
   "outputs": [],
   "source": [
    "save = False\n",
    "datadir = '/Users/bruzic/Documents/Projects/Qscout/emulations/plots'\n",
    "\n",
    "import matplotlib\n",
    "from matplotlib import cm\n",
    "from matplotlib import pyplot as plt\n",
    "from numpy import bincount\n",
    "\n",
    "for index in range(1):\n",
    "    ys_exact = np.array([result.subcircuits[0].probability_by_int[index] for result in jaqal_results_exact])\n",
    "    grid_ys_exact = np.array([result.subcircuits[0].probability_by_int[index] for result in grid_jaqal_results_exact])\n",
    "    \n",
    "    ys_toy = np.array([result.subcircuits[0].probability_by_int[index] for result in jaqal_results_toy])\n",
    "    \n",
    "    # plt.plot(angles, ys_toy-ys_exact, '-', label='Toy, depolarization = 0.1%')\n",
    "    colors = cm.YlOrBr(np.linspace(0.3, 1, len(sigmas)))[::-1]\n",
    "    for i, sigma in enumerate(sigmas[::-1]):\n",
    "        ys_ion = np.array([result.subcircuits[0].probability_by_int[index] for result in jaqal_results_ion[sigma]])\n",
    "        plt.plot(np.array(angles), ys_ion-ys_exact, '-', label=r'IonSim, dpower=10 $\\mu$W, $\\sigma=$'+ f'{int(np.round(1e6*sigma))}' + r' $\\mu$W', color=colors[i])\n",
    "        grid_ys_ion = np.array([result.subcircuits[0].probability_by_int[index] for result in grid_jaqal_results_ion[sigma]])\n",
    "        plt.plot(np.array(grid_angles), grid_ys_ion-grid_ys_exact, 'o', label=r'IonSim, dpower=10 $\\mu$W, $\\sigma=$'+ f'{int(np.round(1e6*sigma))}' + r' $\\mu$W', color=colors[i])\n",
    "    \n",
    "    plt.legend(loc=\"upper right\", bbox_to_anchor=(1.75, 1.0))\n",
    "    plt.ylabel('Error')\n",
    "    plt.xlabel(r'Theta (rad.)')\n",
    "    if save:\n",
    "        plt.savefig(f'{datadir}/R_gate_error_vs_theta.pdf', bbox_inches='tight')\n",
    "    plt.show()"
   ]
  },
  {
   "cell_type": "code",
   "execution_count": null,
   "metadata": {},
   "outputs": [],
   "source": [
    "import matplotlib\n",
    "from matplotlib import pyplot as plt\n",
    "from numpy import bincount\n",
    "for index in range(4):\n",
    "    ys_exact = np.array([result.subcircuits[0].probability_by_int[index] for result in jaqal_results_exact ])\n",
    "    ys_toy = np.array([result.subcircuits[0].probability_by_int[index] for result in jaqal_results_toy ])\n",
    "    \n",
    "    # plt.plot(angles, ys_exact-ys_exact)\n",
    "    plt.plot(angles, ys_toy-ys_exact, '--', label='toy')\n",
    "    for sigma in sigmas:\n",
    "        ys_ion = np.array([result.subcircuits[0].probability_by_int[index] for result in jaqal_results_ion[sigma]])\n",
    "        plt.plot(angles, ys_ion-ys_exact, '.', label=r'$\\sigma=$'+ f' {sigma}')\n",
    "    plt.legend()\n",
    "    plt.ylabel('Error')\n",
    "    plt.xlabel(r'Theta (rad.)')\n",
    "    plt.show()"
   ]
  },
  {
   "cell_type": "code",
   "execution_count": null,
   "metadata": {},
   "outputs": [],
   "source": []
  },
  {
   "cell_type": "code",
   "execution_count": null,
   "metadata": {},
   "outputs": [],
   "source": [
    "jaqal_results_exact[0].subcircuits[0].probability_by_int"
   ]
  },
  {
   "cell_type": "code",
   "execution_count": null,
   "metadata": {},
   "outputs": [],
   "source": [
    "import matplotlib\n",
    "from matplotlib import pyplot\n",
    "from numpy import bincount\n",
    "\n",
    "fig, ax = pyplot.subplots()\n",
    "ax.set(ylim=(0,100))\n",
    "data = [r.as_int for r in jaqal_results_exact[0].subcircuits[0].readouts]\n",
    "hist = bincount(data, None, 4)\n",
    "probs = jaqal_results_exact[0].subcircuits[0].probability_by_int\n",
    "labels = [f\"{n:02b}\"[::-1] for n in range(4)]\n",
    "ax.bar(range(4), height=hist, tick_label=labels)\n",
    "ax.scatter(range(4), probs * 100, marker='x', zorder=3)\n",
    "ax.set_xlabel('Measured Bitstring')\n",
    "ax.set_ylabel('Counts')\n",
    "ax.set_title('Bell State Experiment')\n",
    "# ax.set_yscale('log')\n",
    "fig.tight_layout()\n",
    "pyplot.show()"
   ]
  },
  {
   "cell_type": "code",
   "execution_count": null,
   "metadata": {},
   "outputs": [],
   "source": []
  },
  {
   "cell_type": "code",
   "execution_count": null,
   "metadata": {},
   "outputs": [],
   "source": []
  }
 ],
 "metadata": {
  "kernelspec": {
   "display_name": "Python 3 (ipykernel)",
   "language": "python",
   "name": "python3"
  },
  "language_info": {
   "codemirror_mode": {
    "name": "ipython",
    "version": 3
   },
   "file_extension": ".py",
   "mimetype": "text/x-python",
   "name": "python",
   "nbconvert_exporter": "python",
   "pygments_lexer": "ipython3",
   "version": "3.9.6"
  }
 },
 "nbformat": 4,
 "nbformat_minor": 4
}

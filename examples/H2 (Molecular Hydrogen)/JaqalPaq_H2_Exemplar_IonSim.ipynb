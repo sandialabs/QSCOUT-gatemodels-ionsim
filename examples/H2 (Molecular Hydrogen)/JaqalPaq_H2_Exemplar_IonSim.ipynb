{
 "cells": [
  {
   "cell_type": "markdown",
   "metadata": {},
   "source": [
    "# Molecular Hydrogen (H2) Exemplar\n",
    "## Step 0: Import various libraries"
   ]
  },
  {
   "cell_type": "code",
   "execution_count": 1,
   "metadata": {
    "scrolled": true
   },
   "outputs": [],
   "source": [
    "# Imports for QSCOUT\n",
    "import jaqalpaq\n",
    "from jaqalpaq.core import circuitbuilder\n",
    "from jaqalpaq import emulator\n",
    "from qscout.v1.std.jaqal_gates import ALL_GATES as std\n",
    "\n",
    "# Imports for basic mathematical functionality\n",
    "from math import pi\n",
    "import numpy as np\n",
    "\n",
    "# Imports for OpenFermion(-PySCF)\n",
    "import openfermion as of\n",
    "from openfermion.chem import MolecularData\n",
    "from openfermionpyscf import run_pyscf\n",
    "\n",
    "# Import for VQE optimizer\n",
    "from scipy import optimize\n",
    "\n",
    "# Import IonSim Error Model\n",
    "from qscout.v1.std.ionsim import IonSimErrorModel"
   ]
  },
  {
   "cell_type": "markdown",
   "metadata": {},
   "source": [
    "## Step 0.5: Create emulator backends"
   ]
  },
  {
   "cell_type": "code",
   "execution_count": 2,
   "metadata": {},
   "outputs": [
    {
     "name": "stdout",
     "output_type": "stream",
     "text": [
      "Help on class IonSimErrorModel in module qscout.v1.std.ionsim.ionsim:\n",
      "\n",
      "class IonSimErrorModel(jaqalpaq.emulator.pygsti.backends.AbstractNoisyNativeEmulator)\n",
      " |  IonSimErrorModel(*args, **kwargs)\n",
      " |  \n",
      " |  IonSim error model of the QSCOUT native gates.\n",
      " |  \n",
      " |  Please type \"help(IonSimErrorModel)\" for more information.\n",
      " |  \n",
      " |  Method resolution order:\n",
      " |      IonSimErrorModel\n",
      " |      jaqalpaq.emulator.pygsti.backends.AbstractNoisyNativeEmulator\n",
      " |      jaqalpaq.emulator.backend.ExtensibleBackend\n",
      " |      jaqalpaq.emulator.pygsti.backends.CircuitEmulator\n",
      " |      jaqalpaq.emulator.backend.IndependentSubcircuitsBackend\n",
      " |      jaqalpaq.emulator.backend.AbstractBackend\n",
      " |      builtins.object\n",
      " |  \n",
      " |  Methods defined here:\n",
      " |  \n",
      " |  __init__(self, *args, **kwargs)\n",
      " |      Builds an IonSimErrorModel instance for particular error parameters.\n",
      " |      \n",
      " |      \n",
      " |      Parameters\n",
      " |      ----------\n",
      " |      \n",
      " |      n_qubits : int\n",
      " |          The number of qubits to emulate (required; passed to AbstractNoisyNativeEmulator)\n",
      " |      \n",
      " |      model : str \n",
      " |          The name of the error model to use.\n",
      " |      \n",
      " |      params : list of str \n",
      " |          The names of the erorr parameters to use.\n",
      " |      \n",
      " |      v0 : dict\n",
      " |          The value of each error parameter, measured by its difference from the value for an ideal gate.\n",
      " |      \n",
      " |      sigmas : dict\n",
      " |          The value of each error parameter, measured by its Gaussian width centered about v0[name].        \n",
      " |      \n",
      " |      sample : bool\n",
      " |          Whether to sample from the distibution of errors or average over it. \n",
      " |      \n",
      " |      estimate_average : bool\n",
      " |          Whether to estimate the average over the error distribution, favoring efficiency\n",
      " |          over accuracy. \n",
      " |      \n",
      " |      \n",
      " |      Notes\n",
      " |      -----\n",
      " |      \n",
      " |      Possible error parameters are the following:\n",
      " |      \n",
      " |          dpower12 : power error in laser tones 1 and 2 (units of W)\n",
      " |      \n",
      " |          dfreq1 : frequency error in laser tone 1 (units of Hz)\n",
      " |      \n",
      " |          dphase1 : phase error in laser tone 1 (units of rad.)\n",
      " |      \n",
      " |          dtime : timing error in gate duration (units of microseconds)\n",
      " |      \n",
      " |      R gates are Raman gates with two laser tones: 0 and 1.\n",
      " |      \n",
      " |      MS gates are Raman gates with three laser tones: 0, 1, and 2, where the\n",
      " |      paris (0, 1) and (0, 2) make Raman transitions. All beams are considered global.\n",
      " |  \n",
      " |  angles_in_principle_ranges(self, phi, theta, num_qubits)\n",
      " |      Translate angles into the following ranges:\n",
      " |      \n",
      " |      For single-qubit gates,\n",
      " |      \n",
      " |          0 <= phi <= 2 pi\n",
      " |          0 <= theta <= pi\n",
      " |      \n",
      " |      \n",
      " |      For two-qubit gates,\n",
      " |      \n",
      " |          0 <= phi <= 2 pi\n",
      " |          -pi <= theta <= pi\n",
      " |  \n",
      " |  average_chi_over_noise(self, interp_op, v0, param_ranges, sigmas)\n",
      " |      Generate a process matrix, averaging over a single Gaussian distribution of noise\n",
      " |  \n",
      " |  estimate_chi_averaged_over_noise(self, interp_op, v0, param_ranges, sigmas)\n",
      " |      Generate a process matrix, estimating an average over Gaussian distributions of noise.\n",
      " |      \n",
      " |      We assume the process matrix, chi(v, v0), has the functional form\n",
      " |      chi(v, v0) = a + b (v-v0) + c (v-v0)**2 + d (v-v0)**3, near v = v0,\n",
      " |      for each parameter in v.\n",
      " |  \n",
      " |  gate_MS(self, q0, q1, phi, theta)\n",
      " |      Generate a process matrix for a time stretched gate\n",
      " |  \n",
      " |  gate_Px = newop(self, *args, **kwargs)\n",
      " |  \n",
      " |  gate_Py = newop(self, *args, **kwargs)\n",
      " |  \n",
      " |  gate_Pz = newop(self, *args, **kwargs)\n",
      " |  \n",
      " |  gate_R(self, q, phi, theta)\n",
      " |      Generate a process matrix for a time stretched gate\n",
      " |  \n",
      " |  gate_Rx = newop(self, *args, **kwargs)\n",
      " |  \n",
      " |  gate_Ry = newop(self, *args, **kwargs)\n",
      " |  \n",
      " |  gate_Rz(self, q, angle, stretch=1)\n",
      " |  \n",
      " |  gate_Sx = newop(self, *args, **kwargs)\n",
      " |  \n",
      " |  gate_Sxd = newop(self, *args, **kwargs)\n",
      " |  \n",
      " |  gate_Sxx = newop(self, *args, **kwargs)\n",
      " |  \n",
      " |  gate_Sy = newop(self, *args, **kwargs)\n",
      " |  \n",
      " |  gate_Syd = newop(self, *args, **kwargs)\n",
      " |  \n",
      " |  gate_Sz = newop(self, *args, **kwargs)\n",
      " |  \n",
      " |  gate_Szd = newop(self, *args, **kwargs)\n",
      " |  \n",
      " |  gateduration_MS(self, q0, q1, phi, theta)\n",
      " |      Compute duration of a time stretched MS gate\n",
      " |  \n",
      " |  gateduration_Px = newop(self, *args, **kwargs)\n",
      " |  \n",
      " |  gateduration_Py = newop(self, *args, **kwargs)\n",
      " |  \n",
      " |  gateduration_Pz = newop(self, *args, **kwargs)\n",
      " |  \n",
      " |  gateduration_R(self, q, phi, theta)\n",
      " |      Compute duration of a time stretched R gate\n",
      " |  \n",
      " |  gateduration_Rx = newop(self, *args, **kwargs)\n",
      " |  \n",
      " |  gateduration_Ry = newop(self, *args, **kwargs)\n",
      " |  \n",
      " |  gateduration_Rz(self, q, angle, stretch=1)\n",
      " |      # Rz is performed entirely in software.\n",
      " |  \n",
      " |  gateduration_Sx = newop(self, *args, **kwargs)\n",
      " |  \n",
      " |  gateduration_Sxd = newop(self, *args, **kwargs)\n",
      " |  \n",
      " |  gateduration_Sxx = newop(self, *args, **kwargs)\n",
      " |  \n",
      " |  gateduration_Sy = newop(self, *args, **kwargs)\n",
      " |  \n",
      " |  gateduration_Syd = newop(self, *args, **kwargs)\n",
      " |  \n",
      " |  gateduration_Sz = newop(self, *args, **kwargs)\n",
      " |  \n",
      " |  gateduration_Szd = newop(self, *args, **kwargs)\n",
      " |  \n",
      " |  gaussian(self, x, scale)\n",
      " |      Evaluate Gaussian distribution at x, with a standard deviation equal to scale\n",
      " |  \n",
      " |  idle(self, q, duration)\n",
      " |  \n",
      " |  sample_chi_from_noise(self, interp_op, v0, param_ranges, sigmas)\n",
      " |      Generate a process matrix, sampling from Gaussian distributions of noise\n",
      " |  \n",
      " |  sample_truncnorm(self, a, b, sigma)\n",
      " |      Sample from a truncated normal (Gaussian) distribution\n",
      " |  \n",
      " |  ----------------------------------------------------------------------\n",
      " |  Data and other attributes defined here:\n",
      " |  \n",
      " |  jaqal_gates = {'I_MS': IdleGateDefinition(I_MS, [Parameter('q0', Param...\n",
      " |  \n",
      " |  ----------------------------------------------------------------------\n",
      " |  Methods inherited from jaqalpaq.emulator.pygsti.backends.AbstractNoisyNativeEmulator:\n",
      " |  \n",
      " |  build_model(self)\n",
      " |  \n",
      " |  ----------------------------------------------------------------------\n",
      " |  Methods inherited from jaqalpaq.emulator.backend.ExtensibleBackend:\n",
      " |  \n",
      " |  collect_gate_models(self)\n",
      " |      Return a dictionary of tuples of gate models and gate durations.\n",
      " |      \n",
      " |      This combs through the class's definition for all parameters named gate_*, and\n",
      " |        adds a corresponding entry in the returned dictionary, keyed by the associated\n",
      " |        gate name, of the gate model (i.e., the noisy process model) and the duration\n",
      " |        that the gate operates.\n",
      " |      : return dict: A dictionary of the models of the gates\n",
      " |  \n",
      " |  get_n_qubits(self, circ)\n",
      " |      Returns the number of qubits the backend will be simulating.\n",
      " |      \n",
      " |      :param circ: The circuit object being emulated/simulated.\n",
      " |  \n",
      " |  set_defaults(self, kwargs, **defaults)\n",
      " |      Set parameters from a list of defaults and function kwargs.\n",
      " |      \n",
      " |      For every value passed as a keyword argument (into **defaults), set it in the\n",
      " |        object's namespace.  Values in kwargs overrided the default.  Values used from\n",
      " |        kwargs are removed from kwargs.\n",
      " |      \n",
      " |      :param kwargs: a dictionary of your function's keyword arguments, mutated to\n",
      " |        only contain unused values.\n",
      " |  \n",
      " |  ----------------------------------------------------------------------\n",
      " |  Methods inherited from jaqalpaq.emulator.backend.IndependentSubcircuitsBackend:\n",
      " |  \n",
      " |  __call__(self, circ)\n",
      " |      Attaches the backend to a particular circuit, creating a Job object.\n",
      " |      \n",
      " |      Calculates the probabilities of outcomes for every subcircuit.\n",
      " |      \n",
      " |      :param Circuit circ: parent circuit\n",
      " |      \n",
      " |      :returns IndependentSubcircuitsJob:\n",
      " |  \n",
      " |  ----------------------------------------------------------------------\n",
      " |  Data descriptors inherited from jaqalpaq.emulator.backend.AbstractBackend:\n",
      " |  \n",
      " |  __dict__\n",
      " |      dictionary for instance variables (if defined)\n",
      " |  \n",
      " |  __weakref__\n",
      " |      list of weak references to the object (if defined)\n",
      "\n"
     ]
    }
   ],
   "source": [
    "help(IonSimErrorModel)"
   ]
  },
  {
   "cell_type": "code",
   "execution_count": 3,
   "metadata": {},
   "outputs": [],
   "source": [
    "# NB: error parameters are in SI units, except for time, which is in microseconds.\n",
    "# Numbers in the parameter name specify the laser tone.\n",
    "# E.g., \"dpower12\" is the power error on laser tones 1 and 2. \n",
    "ionsim_backend = IonSimErrorModel(\n",
    "    2, \n",
    "    model='standard',\n",
    "    params=['dpower12', 'dfreq1', 'dphase1', 'dtime'],\n",
    "    v0={'dpower12': 5e-4,\n",
    "        'dfreq1': 5e3,\n",
    "        'dphase1': 5e-2,\n",
    "        'dtime': 5e-3},\n",
    "    sigmas={'dpower12': 5e-4,\n",
    "        'dfreq1': 5e3,\n",
    "        'dphase1': 5e-2,\n",
    "        'dtime': 5e-3}\n",
    ")"
   ]
  },
  {
   "cell_type": "code",
   "execution_count": 4,
   "metadata": {},
   "outputs": [
    {
     "data": {
      "text/plain": [
       "{'R': {'phi': (0, 6.283185307179586),\n",
       "  'theta': (0, 3.141592653589793),\n",
       "  'dpower12': (-0.001, 0.001),\n",
       "  'dfreq1': (-10000.0, 10000.0),\n",
       "  'dphase1': (-0.1, 0.1),\n",
       "  'dtime': (-0.012206020602060207, 0.012206020602060207)},\n",
       " 'MS': {'phi': (0, 6.283185307179586),\n",
       "  'theta': (0, 3.141592653589793),\n",
       "  'dpower12': (-0.001, 0.001),\n",
       "  'dfreq1': (-10000.0, 10000.0),\n",
       "  'dphase1': (-0.1, 0.1),\n",
       "  'dtime': (-0.08888888888, 0.08888888888)}}"
      ]
     },
     "execution_count": 4,
     "metadata": {},
     "output_type": "execute_result"
    }
   ],
   "source": [
    "# The interpolation data ranges between certain values.\n",
    "# Call gate_data.describe() to get the valid parameters:\n",
    "ionsim_backend.gate_data.describe()"
   ]
  },
  {
   "cell_type": "markdown",
   "metadata": {},
   "source": [
    "## Step 1: SCF calculation to assemble the second-quantized Hamiltonian"
   ]
  },
  {
   "cell_type": "code",
   "execution_count": 5,
   "metadata": {},
   "outputs": [
    {
     "name": "stdout",
     "output_type": "stream",
     "text": [
      "Bond Length in Angstroms: 0.7474\n",
      "FCI (Exact) energy in Hartrees: -1.1371757102406859\n"
     ]
    }
   ],
   "source": [
    "# Set the basis set, spin, and charge of the H2 molecule\n",
    "basis = 'sto-3g'\n",
    "multiplicity = 1\n",
    "charge = 0\n",
    "\n",
    "# Set calculation parameters\n",
    "run_scf = 1\n",
    "run_fci = 1\n",
    "delete_input = True\n",
    "delete_output = False\n",
    "\n",
    "# Generate molecule at some bond length (0.7474 Angstroms here)\n",
    "geometry = [('H', (0., 0., 0.)), ('H', (0., 0., 0.7474))]\n",
    "molecule = MolecularData(\n",
    "    geometry, basis, multiplicity, charge,    \n",
    "    filename='./H2_sto-3g_single_0.7474') #Set file location of data\n",
    "\n",
    "# Run pyscf to generate new molecular data for sto-3g H2\n",
    "molecule = run_pyscf(molecule,\n",
    "                     run_scf=run_scf,\n",
    "                     run_fci=run_fci,\n",
    "                     verbose=False)\n",
    "\n",
    "print(\"Bond Length in Angstroms: {}\".format(0.7474))\n",
    "print(\"FCI (Exact) energy in Hartrees: {}\".format(molecule.fci_energy))"
   ]
  },
  {
   "cell_type": "markdown",
   "metadata": {},
   "source": [
    "## Step 2: Convert the fermionic Hamiltonian to a qubit Hamiltonian"
   ]
  },
  {
   "cell_type": "code",
   "execution_count": 6,
   "metadata": {},
   "outputs": [],
   "source": [
    "# Get the fermionic Hamiltonian for H2 and map it using the BK encoding\n",
    "hamiltonian = molecule.get_molecular_hamiltonian()\n",
    "hamiltonian_ferm = of.get_fermion_operator(hamiltonian)\n",
    "hamiltonian_bk = of.bravyi_kitaev(hamiltonian_ferm)\n",
    "\n",
    "# Define Pauli strings that appear in the reduced two-qubit Hamiltonian\n",
    "terms = [[None, None], [None, 'Z'], ['Z', None], ['Z', 'Z'], ['X', 'X'], ['Y', 'Y']]\n",
    "\n",
    "# Calculate effective coefficients for the reduced two-qubit Hamiltonian\n",
    "# Derivation follows arXiv:1803.10238v2 appendix A-2\n",
    "fs = hamiltonian_bk.terms #Old coefficients from OpenFermion Hamiltonian\n",
    "c0 = (fs[()] + fs[(1, 'Z'),] + fs[(1, 'Z'), (3, 'Z'),]).real\n",
    "c1 = (fs[(0, 'Z'),] + fs[(0, 'Z'), (1, 'Z'),]).real\n",
    "c2 = (fs[(2, 'Z'),] + fs[(1, 'Z'), (2, 'Z'), (3, 'Z'),]).real\n",
    "c3 = (fs[(0, 'Z'), (2, 'Z'),] + fs[(0, 'Z'), (1, 'Z'), (2, 'Z'),] + fs[(0, 'Z'), (2, 'Z'), (3, 'Z'),] + fs[(0, 'Z'), (1, 'Z'), (2, 'Z'), (3, 'Z')]).real\n",
    "c4 = (fs[(0,'X'), (1, 'Z'), (2, 'X'),] + fs[(0, 'X'), (1, 'Z'), (2, 'X'), (3, 'Z'),]).real\n",
    "c5 = (fs[(0, 'Y'), (1, 'Z'), (2, 'Y'),] + fs[(0, 'Y'), (1, 'Z'), (2, 'Y'), (3, 'Z'),]).real\n",
    "cs = [c0, c1, c2, c3, c4, c5] #New coefficients are linear combinations of old coefficients\n",
    "\n",
    "# Number of times to sample from measurement circuits\n",
    "n_samples = 1"
   ]
  },
  {
   "cell_type": "markdown",
   "metadata": {},
   "source": [
    "## Step 3: Define UCC Ansatz circuit in JaqalPaq"
   ]
  },
  {
   "cell_type": "code",
   "execution_count": 7,
   "metadata": {},
   "outputs": [],
   "source": [
    "def ansatz(theta, sample_noise=False):\n",
    "    term_probs = []\n",
    "    for i in range(len(terms)):\n",
    "        builder = circuitbuilder.CircuitBuilder(native_gates=std)\n",
    "        \n",
    "        # Define constants +-pi/2\n",
    "        pi2 = builder.let('pi2', pi/2)\n",
    "        npi2 = builder.let('npi2', -pi/2)\n",
    "        \n",
    "        # Create a qubit register\n",
    "        q = builder.register('q', 2)\n",
    "        \n",
    "        # Define a hadamard macro\n",
    "        hadamard = circuitbuilder.SequentialBlockBuilder()\n",
    "        hadamard.gate('Sy', 'a')\n",
    "        hadamard.gate('Px', 'a')\n",
    "        builder.macro('hadamard', ['a'], hadamard)\n",
    "        \n",
    "        # Prepare the Hartree Fock state\n",
    "        builder.gate('prepare_all')\n",
    "        builder.gate('Px', q[0])\n",
    "        \n",
    "        # Apply the UCC Ansatz exp[-i*theta(X1 Y0)]\n",
    "        builder.gate('MS', q[1], q[0], 0, pi2)\n",
    "        builder.gate('Rz', q[1], theta)\n",
    "        builder.gate('MS', q[1], q[0], 0, npi2)\n",
    "        \n",
    "        # Change basis for measurement depending on term\n",
    "        for j, qubit in enumerate(terms[i]):\n",
    "            if qubit == 'X':\n",
    "                builder.gate('hadamard', ('array_item', q, j)),\n",
    "            if qubit == 'Y':\n",
    "                builder.gate('Sxd', ('array_item', q, j)),\n",
    "        builder.gate('measure_all')\n",
    "       \n",
    "        circuit = builder.build()\n",
    "\n",
    "        # Format results of simulation as a list of lists\n",
    "        probs = np.zeros(4) # Number of possible states\n",
    "        sim_result = emulator.run_jaqal_circuit(circuit, backend=ionsim_backend) #Run circuit on emulator\n",
    "#        sim_result = emulator.run_jaqal_circuit(circuit) #Run circuit on emulator \n",
    "        sim_probs = sim_result.subcircuits[0].probability_by_int\n",
    "        if sample_noise: #Sample circuits to determine probs\n",
    "            for k in range(n_samples):\n",
    "                sample = np.random.choice(4, p=sim_probs)\n",
    "                probs[sample] += 1 #Increment state counter\n",
    "            probs = probs/n_samples #Determine probabilities from sampling\n",
    "            term_probs += [probs] #Combine lists of probs of each term in Hamiltonian\n",
    "        else: #Exact solution without sampling\n",
    "            term_probs += [sim_probs]\n",
    "    return term_probs"
   ]
  },
  {
   "cell_type": "markdown",
   "metadata": {},
   "source": [
    "## Step 4: Define functions to calculate energy expectation value of Ansatz state"
   ]
  },
  {
   "cell_type": "code",
   "execution_count": 8,
   "metadata": {
    "scrolled": true
   },
   "outputs": [],
   "source": [
    "# Calculate energy of one term of the Hamiltonian for one possible state\n",
    "def term_energy(term, state, coefficient, prob):\n",
    "    parity = 1\n",
    "    for i in range(len(term)):\n",
    "        #Change parity if state is occupied and is acted on by a pauli operator\n",
    "        if term[i] != None and state[i] == '1':\n",
    "            parity = -1*parity\n",
    "    return coefficient*prob*parity\n",
    "\n",
    "# Calculate energy of the molecule for a given value of theta\n",
    "def make_calculate_energy(sample_noise=False):\n",
    "    def calculate_energy(theta):\n",
    "        energy = 0\n",
    "        probs = ansatz(theta[0], sample_noise) #Convert tuple (from optimization) to float for circuit\n",
    "        for i in range(len(terms)): #For each term in the hamiltonian\n",
    "            for j in range(len(probs[0])): #For each possible state\n",
    "                term = terms[i]\n",
    "                state = '{0:02b}'.format(j)[::-1] #convert state to binary (# of qubits)\n",
    "                coefficient = cs[i].real\n",
    "                prob = probs[i][j]\n",
    "                #print(term, state, coefficient, prob)\n",
    "                energy += term_energy(term, state, coefficient, prob)\n",
    "        return energy\n",
    "    return calculate_energy"
   ]
  },
  {
   "cell_type": "markdown",
   "metadata": {},
   "source": [
    "## Step 5: Minimize the energy expectation value in  𝜃"
   ]
  },
  {
   "cell_type": "code",
   "execution_count": 9,
   "metadata": {
    "scrolled": true
   },
   "outputs": [
    {
     "data": {
      "text/plain": [
       "     fun: -0.9347002330095502\n",
       "   maxcv: 0.0\n",
       " message: 'Optimization terminated successfully.'\n",
       "    nfev: 17\n",
       "  status: 1\n",
       " success: True\n",
       "       x: array([0.0099])"
      ]
     },
     "execution_count": 9,
     "metadata": {},
     "output_type": "execute_result"
    }
   ],
   "source": [
    "# Minimize the energy using classical optimization\n",
    "optimize.minimize(fun=make_calculate_energy(sample_noise=True), x0=[0.01], method=\"COBYLA\") #Can use \"L-BFGS-B\" instead"
   ]
  },
  {
   "cell_type": "markdown",
   "metadata": {},
   "source": [
    "## Step 6: Loop over previous steps to calculate ground state energy at different bond lengths"
   ]
  },
  {
   "cell_type": "code",
   "execution_count": 10,
   "metadata": {
    "scrolled": true
   },
   "outputs": [
    {
     "name": "stdout",
     "output_type": "stream",
     "text": [
      "R=0.3\t Optimized Energy: -0.570703030318982\t Sampling Noise: False\n",
      "R=0.3\t Optimized Energy: -0.5626966507204845\t Sampling Noise: True\n",
      "R=0.4\t Optimized Energy: -0.8865107470518319\t Sampling Noise: False\n",
      "R=0.4\t Optimized Energy: -0.8297691575417205\t Sampling Noise: True\n",
      "R=0.5\t Optimized Energy: -1.0306451601593989\t Sampling Noise: False\n",
      "R=0.5\t Optimized Energy: -1.049002004006652\t Sampling Noise: True\n",
      "R=0.6\t Optimized Energy: -1.0944603187728925\t Sampling Noise: False\n",
      "R=0.6\t Optimized Energy: -1.0604804313385463\t Sampling Noise: True\n",
      "R=0.7\t Optimized Energy: -1.1166301726279586\t Sampling Noise: False\n",
      "R=0.7\t Optimized Energy: -1.1128844082271747\t Sampling Noise: True\n",
      "R=0.8\t Optimized Energy: -1.1164893287244289\t Sampling Noise: False\n",
      "R=0.8\t Optimized Energy: -1.1183114657908995\t Sampling Noise: True\n",
      "R=0.9\t Optimized Energy: -1.1045062079641659\t Sampling Noise: False\n",
      "R=0.9\t Optimized Energy: -1.083880229813871\t Sampling Noise: True\n",
      "R=1.0\t Optimized Energy: -1.0864633395768575\t Sampling Noise: False\n",
      "R=1.0\t Optimized Energy: -1.1104167905864095\t Sampling Noise: True\n",
      "R=1.1\t Optimized Energy: -1.0656771690444025\t Sampling Noise: False\n",
      "R=1.1\t Optimized Energy: -1.0258818096004\t Sampling Noise: True\n",
      "R=1.2\t Optimized Energy: -1.044225321255253\t Sampling Noise: False\n",
      "R=1.2\t Optimized Energy: -1.0403307985115784\t Sampling Noise: True\n",
      "R=1.3\t Optimized Energy: -1.023515526003201\t Sampling Noise: False\n",
      "R=1.3\t Optimized Energy: -1.0445730002739346\t Sampling Noise: True\n"
     ]
    }
   ],
   "source": [
    "import time\n",
    "start_time = time.time()\n",
    "\n",
    "# Set the basis set, spin, and charge of the H2 molecule\n",
    "basis = 'sto-3g'\n",
    "multiplicity = 1\n",
    "charge = 0\n",
    "\n",
    "# Set calculation parameters\n",
    "run_scf = 1\n",
    "run_fci = 1\n",
    "delete_input = True\n",
    "delete_output = False\n",
    "\n",
    "optimized_energies = [[], []]\n",
    "exact_energies = []\n",
    "\n",
    "# Number of times to sample from measurement circuits\n",
    "# n_samples = 10000\n",
    "\n",
    "# Loop over bond lengths from 0.3 to 1.3 angstroms\n",
    "n_samples = 100 # Sample circuit\n",
    "n_pts = 11 # Number of points\n",
    "bond_lengths = np.linspace(0.3,1.3,n_pts)\n",
    "for diatomic_bond_length in bond_lengths:\n",
    "    # Generate molecule at some bond length\n",
    "    geometry = [('H', (0., 0., 0.)), ('H', (0., 0., diatomic_bond_length))]\n",
    "    molecule = MolecularData(\n",
    "        geometry, basis, multiplicity, charge,\n",
    "        description=str(round(diatomic_bond_length, 2)),\n",
    "        filename='./H2_sto-3g_single_dissociation')\n",
    "\n",
    "    # Run pyscf to generate new molecular data for sto-3g H2\n",
    "    molecule = run_pyscf(molecule,\n",
    "                     run_scf=run_scf,\n",
    "                     run_fci=run_fci,\n",
    "                     verbose=False)\n",
    "    \n",
    "    # Get the fermionic Hamiltonian for H2 and map it into qubits using the BK encoding\n",
    "    hamiltonian = molecule.get_molecular_hamiltonian()\n",
    "    hamiltonian_ferm = of.get_fermion_operator(hamiltonian)\n",
    "    hamiltonian_bk = of.bravyi_kitaev(hamiltonian_ferm)\n",
    "\n",
    "    # Define Pauli strings that appear in the reduced two-qubit Hamiltonian\n",
    "    terms = [[None, None], [None, 'Z'], ['Z', None], ['Z', 'Z'], ['X', 'X'], ['Y', 'Y']]\n",
    "\n",
    "    # Calculate effective coefficients for the reduced two-qubit Hamiltonian\n",
    "    # Derivation follows arXiv:1803.10238v2 appendix A-2\n",
    "    fs = hamiltonian_bk.terms #Old coefficients from OpenFermion Hamiltonian\n",
    "    c0 = (fs[()] + fs[(1, 'Z'),] + fs[(1, 'Z'), (3, 'Z'),]).real\n",
    "    c1 = (fs[(0, 'Z'),] + fs[(0, 'Z'), (1, 'Z'),]).real\n",
    "    c2 = (fs[(2, 'Z'),] + fs[(1, 'Z'), (2, 'Z'), (3, 'Z'),]).real\n",
    "    c3 = (fs[(0, 'Z'), (2, 'Z'),] + fs[(0, 'Z'), (1, 'Z'), (2, 'Z'),] + fs[(0, 'Z'), (2, 'Z'), (3, 'Z'),] + fs[(0, 'Z'), (1, 'Z'), (2, 'Z'), (3, 'Z')]).real\n",
    "    c4 = (fs[(0,'X'), (1, 'Z'), (2, 'X'),] + fs[(0, 'X'), (1, 'Z'), (2, 'X'), (3, 'Z'),]).real\n",
    "    c5 = (fs[(0, 'Y'), (1, 'Z'), (2, 'Y'),] + fs[(0, 'Y'), (1, 'Z'), (2, 'Y'), (3, 'Z'),]).real\n",
    "    cs = [c0, c1, c2, c3, c4, c5] #New coefficients are linear combinations of old coefficients\n",
    "\n",
    "    # Minimize the expectation value of the energy using a classical optimizer (COBYLA)\n",
    "    exact_energies.append(molecule.fci_energy)\n",
    "    for i in range(2):\n",
    "        result = optimize.minimize(fun=make_calculate_energy(sample_noise=i), x0=[0.01], method=\"COBYLA\")\n",
    "        optimized_energies[i].append(result.fun)\n",
    "        print(\"R={}\\t Optimized Energy: {}\\t Sampling Noise: {}\".format(str(round(diatomic_bond_length, 2)), result.fun, bool(i)))\n",
    "        \n",
    "end_time = time.time()"
   ]
  },
  {
   "cell_type": "markdown",
   "metadata": {},
   "source": [
    "## Step 7: Plot the dissociation curve"
   ]
  },
  {
   "cell_type": "code",
   "execution_count": 11,
   "metadata": {},
   "outputs": [
    {
     "data": {
      "text/plain": [
       "0.5758675348181648"
      ]
     },
     "execution_count": 11,
     "metadata": {},
     "output_type": "execute_result"
    }
   ],
   "source": [
    "(end_time - start_time)/22"
   ]
  },
  {
   "cell_type": "code",
   "execution_count": 12,
   "metadata": {},
   "outputs": [
    {
     "data": {
      "image/png": "[encoded data removed]",
      "text/plain": [
       "<Figure size 720x504 with 1 Axes>"
      ]
     },
     "metadata": {},
     "output_type": "display_data"
    }
   ],
   "source": [
    "import matplotlib\n",
    "import matplotlib.pyplot as pyplot\n",
    "\n",
    "# Plot the various energies for different bond lengths\n",
    "fig = pyplot.figure(figsize=(10,7))\n",
    "pyplot.rcParams['font.size']=18\n",
    "bkcolor = '#ffffff'\n",
    "ax = fig.add_subplot(1, 1, 1)\n",
    "pyplot.subplots_adjust(left=.2)\n",
    "ax.set_xlabel('R (Angstroms)')\n",
    "ax.set_ylabel(r'E (Hartrees)')\n",
    "ax.set_title(r'H2 bond dissociation curve')\n",
    "ax.spines['right'].set_visible(False)\n",
    "ax.spines['top'].set_visible(False)\n",
    "bond_lengths = [float(x) for x in bond_lengths]\n",
    "ax.plot(bond_lengths, optimized_energies[0], 'o', label='UCCSD', color='red')\n",
    "ax.plot(bond_lengths, optimized_energies[1], 'x', label='UCCSD with Sampling Noise', color='blue')\n",
    "ax.plot(bond_lengths, exact_energies, '-', label='Full-CI', color='black')\n",
    "\n",
    "ax.legend(frameon=False)\n",
    "pyplot.show()\n",
    "\n",
    "fig.savefig('H2_sampling_max_error.pdf')"
   ]
  },
  {
   "cell_type": "code",
   "execution_count": null,
   "metadata": {},
   "outputs": [],
   "source": []
  }
 ],
 "metadata": {
  "kernelspec": {
   "display_name": "Python 3 (ipykernel)",
   "language": "python",
   "name": "python3"
  },
  "language_info": {
   "codemirror_mode": {
    "name": "ipython",
    "version": 3
   },
   "file_extension": ".py",
   "mimetype": "text/x-python",
   "name": "python",
   "nbconvert_exporter": "python",
   "pygments_lexer": "ipython3",
   "version": "3.8.13"
  }
 },
 "nbformat": 4,
 "nbformat_minor": 4
}
